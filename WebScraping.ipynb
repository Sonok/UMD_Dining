{
 "cells": [
  {
   "cell_type": "code",
   "execution_count": null,
   "metadata": {
    "vscode": {
     "languageId": "plaintext"
    }
   },
   "outputs": [],
   "source": [
    "import requests\n",
    "from bs4 import BeautifulSoup\n",
    "\n",
    "# Parameters for the location, date, and meal\n",
    "location = \"South Campus\"\n",
    "date = \"11/18/2024\"\n",
    "meal = \"Breakfast\"\n",
    "\n",
    "# Define the URL and any required headers\n",
    "url = \"https://nutrition.umd.edu/menus\"\n",
    "\n",
    "# Payload for the POST request to filter by location and date (if needed)\n",
    "payload = {\n",
    "    \"location\": location,\n",
    "    \"date\": date,\n",
    "    \"meal\": meal,\n",
    "}\n",
    "\n",
    "# Send a GET request (or POST if the site uses form submissions)\n",
    "response = requests.get(url, params=payload)\n",
    "\n",
    "# Check the response status\n",
    "if response.status_code == 200:\n",
    "    # Parse the HTML content\n",
    "    soup = BeautifulSoup(response.content, \"html.parser\")\n",
    "    \n",
    "    # Extract the menu data (update the selectors based on the site's structure)\n",
    "    menu_items = soup.find_all(\"div\", class_=\"menu-item\")\n",
    "    for item in menu_items:\n",
    "        print(item.text.strip())\n",
    "else:\n",
    "    print(f\"Failed to fetch data. HTTP Status Code: {response.status_code}\")\n"
   ]
  }
 ],
 "metadata": {
  "language_info": {
   "name": "python"
  }
 },
 "nbformat": 4,
 "nbformat_minor": 2
}
